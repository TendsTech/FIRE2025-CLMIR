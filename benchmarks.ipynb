{
 "cells": [
  {
   "cell_type": "code",
   "execution_count": 1,
   "id": "ace49959",
   "metadata": {},
   "outputs": [],
   "source": [
    "import ir_measures\n",
    "from ir_measures import MAP, P, nDCG, Qrel, ScoredDoc\n",
    "import json \n",
    "import pandas as pd"
   ]
  },
  {
   "cell_type": "markdown",
   "id": "7c2d4f08",
   "metadata": {},
   "source": [
    "### Loading Ground Truth"
   ]
  },
  {
   "cell_type": "code",
   "execution_count": 2,
   "id": "9cc4b601",
   "metadata": {},
   "outputs": [],
   "source": [
    "# Loading ground truth data\n",
    "with open('./datasets/validation_data/ground_truth_val.json','r') as f:\n",
    "    data = json.load(f)"
   ]
  },
  {
   "cell_type": "code",
   "execution_count": 3,
   "id": "ce409f2f",
   "metadata": {},
   "outputs": [],
   "source": [
    "qrels = []\n",
    "\n",
    "for query in data:\n",
    "    qid = query['id']\n",
    "    for doc in query['relevant_docs']:\n",
    "        # Consider only relevant documents with a score greater than 0.25\n",
    "        if doc[1]>0.25:\n",
    "            qrels.append(Qrel(str(qid), str(doc[0]), 1))"
   ]
  },
  {
   "cell_type": "markdown",
   "id": "51bec751",
   "metadata": {},
   "source": [
    "### Evaluating benchmarks with ColBERT only retrieval"
   ]
  },
  {
   "cell_type": "code",
   "execution_count": 4,
   "id": "50c7d41c",
   "metadata": {},
   "outputs": [
    {
     "name": "stdout",
     "output_type": "stream",
     "text": [
      "{nDCG: 0.4878523879259779, P@10: 0.4, AP: 0.2606678330508347}\n"
     ]
    }
   ],
   "source": [
    "res_df = pd.read_csv('./outputs/output_val_colbert.csv')\n",
    "\n",
    "runs = []\n",
    "for index, row in res_df.iterrows():\n",
    "    runs.append(ScoredDoc(str(int(row['query_ID'])), str(int(row['retrieved_body_ID'])), row['Similarity Score']))\n",
    "\n",
    "\n",
    "print(ir_measures.calc_aggregate([MAP, P@10, nDCG], qrels, runs))"
   ]
  },
  {
   "cell_type": "markdown",
   "id": "aaf470e1",
   "metadata": {},
   "source": [
    "### Evaluating benchmarks with ColBERT +  MiniLM-L-6-v2 reranker"
   ]
  },
  {
   "cell_type": "code",
   "execution_count": 5,
   "id": "e94dc152",
   "metadata": {},
   "outputs": [
    {
     "name": "stdout",
     "output_type": "stream",
     "text": [
      "{nDCG: 0.6636762746319775, P@10: 0.6476190476190476, AP: 0.4759561002148748}\n"
     ]
    }
   ],
   "source": [
    "res_df = pd.read_csv('./outputs/output_val_colbert+reranker.csv')\n",
    "\n",
    "runs = []\n",
    "for index, row in res_df.iterrows():\n",
    "    runs.append(ScoredDoc(str(int(row['query_ID'])), str(int(row['retrieved_body_ID'])), row['Similarity Score']))\n",
    "\n",
    "\n",
    "print(ir_measures.calc_aggregate([MAP, P@10, nDCG], qrels, runs))"
   ]
  },
  {
   "cell_type": "markdown",
   "id": "3325b664",
   "metadata": {},
   "source": [
    "### Evaluating benchmarks with all-mpnet-base-v2"
   ]
  },
  {
   "cell_type": "code",
   "execution_count": 4,
   "id": "bb970285",
   "metadata": {},
   "outputs": [
    {
     "name": "stdout",
     "output_type": "stream",
     "text": [
      "{AP: 0.16583446445743538, P@10: 0.06666666666666668, nDCG: 0.4604490382512478}\n"
     ]
    }
   ],
   "source": [
    "res_df = pd.read_csv('./outputs/output_val_all-mpnet-base-v2.csv')\n",
    "\n",
    "runs = []\n",
    "for index, row in res_df.iterrows():\n",
    "    runs.append(ScoredDoc(str(int(row['query_ID'])), str(int(row['retrieved_body_ID'])), row['Similarity Score']))\n",
    "\n",
    "\n",
    "print(ir_measures.calc_aggregate([MAP, P@10, nDCG], qrels, runs))"
   ]
  },
  {
   "cell_type": "markdown",
   "id": "79dc429f",
   "metadata": {},
   "source": [
    "### Evaluating benchmarks with all-mpnet-base-v2 + MiniLM-L-6-v2"
   ]
  },
  {
   "cell_type": "code",
   "execution_count": 6,
   "id": "a8c5f425",
   "metadata": {},
   "outputs": [
    {
     "name": "stdout",
     "output_type": "stream",
     "text": [
      "{AP: 0.5680998648720024, P@10: 0.6380952380952379, nDCG: 0.7697985309363473}\n"
     ]
    }
   ],
   "source": [
    "res_df = pd.read_csv('./outputs/output_val_all-mpnet-base-v2_reranked.csv')\n",
    "\n",
    "runs = []\n",
    "for index, row in res_df.iterrows():\n",
    "    runs.append(ScoredDoc(str(int(row['query_ID'])), str(int(row['retrieved_body_ID'])), row['Similarity Score']))\n",
    "\n",
    "\n",
    "print(ir_measures.calc_aggregate([MAP, P@10, nDCG], qrels, runs))"
   ]
  },
  {
   "cell_type": "markdown",
   "id": "c00f1db0",
   "metadata": {},
   "source": [
    "### Evaluating benchmarks with tb17/MathBERT + MiniLM-L-6-v2"
   ]
  },
  {
   "cell_type": "code",
   "execution_count": 7,
   "id": "aeca78a5",
   "metadata": {},
   "outputs": [
    {
     "name": "stdout",
     "output_type": "stream",
     "text": [
      "{AP: 0.19650443390474479, P@10: 0.3666666666666667, nDCG: 0.37352356872469084}\n"
     ]
    }
   ],
   "source": [
    "res_df = pd.read_csv('./outputs/output_val_math_bert_reranked.csv')\n",
    "\n",
    "runs = []\n",
    "for index, row in res_df.iterrows():\n",
    "    runs.append(ScoredDoc(str(int(row['query_ID'])), str(int(row['retrieved_body_ID'])), row['Similarity Score']))\n",
    "\n",
    "\n",
    "print(ir_measures.calc_aggregate([MAP, P@10, nDCG], qrels, runs))"
   ]
  }
 ],
 "metadata": {
  "kernelspec": {
   "display_name": "Python 3",
   "language": "python",
   "name": "python3"
  },
  "language_info": {
   "codemirror_mode": {
    "name": "ipython",
    "version": 3
   },
   "file_extension": ".py",
   "mimetype": "text/x-python",
   "name": "python",
   "nbconvert_exporter": "python",
   "pygments_lexer": "ipython3",
   "version": "3.13.3"
  }
 },
 "nbformat": 4,
 "nbformat_minor": 5
}
